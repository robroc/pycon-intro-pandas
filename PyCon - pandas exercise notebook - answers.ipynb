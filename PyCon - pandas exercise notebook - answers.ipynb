{
 "cells": [
  {
   "cell_type": "markdown",
   "metadata": {},
   "source": [
    "## pandas exercise notebook: answers\n",
    "\n",
    "These are my own solutions to the problems. They are by no menas the best ones."
   ]
  },
  {
   "cell_type": "code",
   "execution_count": 1,
   "metadata": {
    "collapsed": true
   },
   "outputs": [],
   "source": [
    "# Load and prepare the data\n",
    "\n",
    "import pandas as pd\n",
    "%matplotlib inline\n",
    "\n",
    "df = pd.read_csv('2015-combined-salary-seconded-utf8-en_3.csv')\n",
    "col_names = ['sector', 'lastname', 'firstname', 'salary', 'benefits', 'employer', 'title', 'year']\n",
    "df.columns = col_names\n",
    "df[['salary', 'benefits']] = df[['salary', 'benefits']].replace('[\\$,]', '', regex=True).astype(float)"
   ]
  },
  {
   "cell_type": "markdown",
   "metadata": {},
   "source": [
    "### 1. Which sector has the lowest average benefits?"
   ]
  },
  {
   "cell_type": "code",
   "execution_count": 21,
   "metadata": {
    "collapsed": false
   },
   "outputs": [
    {
     "data": {
      "text/html": [
       "<div>\n",
       "<table border=\"1\" class=\"dataframe\">\n",
       "  <thead>\n",
       "    <tr style=\"text-align: right;\">\n",
       "      <th></th>\n",
       "      <th>salary</th>\n",
       "      <th>benefits</th>\n",
       "      <th>year</th>\n",
       "    </tr>\n",
       "    <tr>\n",
       "      <th>sector</th>\n",
       "      <th></th>\n",
       "      <th></th>\n",
       "      <th></th>\n",
       "    </tr>\n",
       "  </thead>\n",
       "  <tbody>\n",
       "    <tr>\n",
       "      <th>Colleges</th>\n",
       "      <td>113357.391554</td>\n",
       "      <td>251.264136</td>\n",
       "      <td>2015</td>\n",
       "    </tr>\n",
       "    <tr>\n",
       "      <th>Government of Ontario - Ministries</th>\n",
       "      <td>124512.969830</td>\n",
       "      <td>261.346373</td>\n",
       "      <td>2015</td>\n",
       "    </tr>\n",
       "    <tr>\n",
       "      <th>Seconded (Energy)*</th>\n",
       "      <td>112957.436667</td>\n",
       "      <td>434.026667</td>\n",
       "      <td>2015</td>\n",
       "    </tr>\n",
       "    <tr>\n",
       "      <th>Seconded (Labour)*</th>\n",
       "      <td>102417.140000</td>\n",
       "      <td>446.020000</td>\n",
       "      <td>2015</td>\n",
       "    </tr>\n",
       "    <tr>\n",
       "      <th>School Boards</th>\n",
       "      <td>113347.600003</td>\n",
       "      <td>547.821967</td>\n",
       "      <td>2015</td>\n",
       "    </tr>\n",
       "    <tr>\n",
       "      <th>Universities</th>\n",
       "      <td>147334.276900</td>\n",
       "      <td>590.674736</td>\n",
       "      <td>2015</td>\n",
       "    </tr>\n",
       "    <tr>\n",
       "      <th>Government of Ontario - Legislative Assembly and Offices</th>\n",
       "      <td>135389.222025</td>\n",
       "      <td>595.027603</td>\n",
       "      <td>2015</td>\n",
       "    </tr>\n",
       "    <tr>\n",
       "      <th>Seconded (Children and Youth Services)*</th>\n",
       "      <td>115861.720000</td>\n",
       "      <td>679.360000</td>\n",
       "      <td>2015</td>\n",
       "    </tr>\n",
       "    <tr>\n",
       "      <th>Seconded (Education)*</th>\n",
       "      <td>129614.415476</td>\n",
       "      <td>800.920794</td>\n",
       "      <td>2015</td>\n",
       "    </tr>\n",
       "    <tr>\n",
       "      <th>Crown Agencies</th>\n",
       "      <td>134650.533521</td>\n",
       "      <td>805.709450</td>\n",
       "      <td>2015</td>\n",
       "    </tr>\n",
       "    <tr>\n",
       "      <th>Hospitals and Boards of Public Health</th>\n",
       "      <td>129183.978237</td>\n",
       "      <td>839.496113</td>\n",
       "      <td>2015</td>\n",
       "    </tr>\n",
       "    <tr>\n",
       "      <th>Municipalities and Services</th>\n",
       "      <td>118870.627882</td>\n",
       "      <td>949.985000</td>\n",
       "      <td>2015</td>\n",
       "    </tr>\n",
       "    <tr>\n",
       "      <th>Seconded (Community Safety and Correctional Services)*</th>\n",
       "      <td>111766.567778</td>\n",
       "      <td>973.809722</td>\n",
       "      <td>2015</td>\n",
       "    </tr>\n",
       "    <tr>\n",
       "      <th>Ontario Power Generation</th>\n",
       "      <td>140659.845823</td>\n",
       "      <td>1341.340347</td>\n",
       "      <td>2015</td>\n",
       "    </tr>\n",
       "    <tr>\n",
       "      <th>Government of Ontario - Judiciary</th>\n",
       "      <td>198500.998883</td>\n",
       "      <td>1644.095453</td>\n",
       "      <td>2015</td>\n",
       "    </tr>\n",
       "    <tr>\n",
       "      <th>Other Public Sector Employers</th>\n",
       "      <td>133851.780048</td>\n",
       "      <td>2480.115320</td>\n",
       "      <td>2015</td>\n",
       "    </tr>\n",
       "    <tr>\n",
       "      <th>Seconded (Health and LongTerm Care)*</th>\n",
       "      <td>224621.180000</td>\n",
       "      <td>4284.833333</td>\n",
       "      <td>2015</td>\n",
       "    </tr>\n",
       "    <tr>\n",
       "      <th>Seconded (Community and Social Services)*</th>\n",
       "      <td>131395.660000</td>\n",
       "      <td>7896.510000</td>\n",
       "      <td>2015</td>\n",
       "    </tr>\n",
       "  </tbody>\n",
       "</table>\n",
       "</div>"
      ],
      "text/plain": [
       "                                                           salary  \\\n",
       "sector                                                              \n",
       "Colleges                                            113357.391554   \n",
       "Government of Ontario - Ministries                  124512.969830   \n",
       "Seconded (Energy)*                                  112957.436667   \n",
       "Seconded (Labour)*                                  102417.140000   \n",
       "School Boards                                       113347.600003   \n",
       "Universities                                        147334.276900   \n",
       "Government of Ontario - Legislative Assembly an...  135389.222025   \n",
       "Seconded (Children and Youth Services)*             115861.720000   \n",
       "Seconded (Education)*                               129614.415476   \n",
       "Crown Agencies                                      134650.533521   \n",
       "Hospitals and Boards of Public Health               129183.978237   \n",
       "Municipalities and Services                         118870.627882   \n",
       "Seconded (Community Safety and Correctional Ser...  111766.567778   \n",
       "Ontario Power Generation                            140659.845823   \n",
       "Government of Ontario - Judiciary                   198500.998883   \n",
       "Other Public Sector Employers                       133851.780048   \n",
       "Seconded (Health and LongTerm Care)*               224621.180000   \n",
       "Seconded (Community and Social Services)*           131395.660000   \n",
       "\n",
       "                                                       benefits  year  \n",
       "sector                                                                 \n",
       "Colleges                                             251.264136  2015  \n",
       "Government of Ontario - Ministries                   261.346373  2015  \n",
       "Seconded (Energy)*                                   434.026667  2015  \n",
       "Seconded (Labour)*                                   446.020000  2015  \n",
       "School Boards                                        547.821967  2015  \n",
       "Universities                                         590.674736  2015  \n",
       "Government of Ontario - Legislative Assembly an...   595.027603  2015  \n",
       "Seconded (Children and Youth Services)*              679.360000  2015  \n",
       "Seconded (Education)*                                800.920794  2015  \n",
       "Crown Agencies                                       805.709450  2015  \n",
       "Hospitals and Boards of Public Health                839.496113  2015  \n",
       "Municipalities and Services                          949.985000  2015  \n",
       "Seconded (Community Safety and Correctional Ser...   973.809722  2015  \n",
       "Ontario Power Generation                            1341.340347  2015  \n",
       "Government of Ontario - Judiciary                   1644.095453  2015  \n",
       "Other Public Sector Employers                       2480.115320  2015  \n",
       "Seconded (Health and LongTerm Care)*               4284.833333  2015  \n",
       "Seconded (Community and Social Services)*           7896.510000  2015  "
      ]
     },
     "execution_count": 21,
     "metadata": {},
     "output_type": "execute_result"
    }
   ],
   "source": [
    "df.groupby('sector').mean().sort_values('benefits')"
   ]
  },
  {
   "cell_type": "markdown",
   "metadata": {},
   "source": [
    "### 2. Find the employee(s) who makes the closest to the mean salary"
   ]
  },
  {
   "cell_type": "code",
   "execution_count": 7,
   "metadata": {
    "collapsed": false,
    "scrolled": true
   },
   "outputs": [
    {
     "data": {
      "text/plain": [
       "127095.7220390681"
      ]
     },
     "execution_count": 7,
     "metadata": {},
     "output_type": "execute_result"
    }
   ],
   "source": [
    "mean = df.salary.mean()\n",
    "mean"
   ]
  },
  {
   "cell_type": "code",
   "execution_count": 11,
   "metadata": {
    "collapsed": false
   },
   "outputs": [
    {
     "data": {
      "text/html": [
       "<div>\n",
       "<table border=\"1\" class=\"dataframe\">\n",
       "  <thead>\n",
       "    <tr style=\"text-align: right;\">\n",
       "      <th></th>\n",
       "      <th>sector</th>\n",
       "      <th>lastname</th>\n",
       "      <th>firstname</th>\n",
       "      <th>salary</th>\n",
       "      <th>benefits</th>\n",
       "      <th>employer</th>\n",
       "      <th>title</th>\n",
       "      <th>year</th>\n",
       "    </tr>\n",
       "  </thead>\n",
       "  <tbody>\n",
       "    <tr>\n",
       "      <th>26191</th>\n",
       "      <td>Hospitals and Boards of Public Health</td>\n",
       "      <td>Bedard</td>\n",
       "      <td>Danielle</td>\n",
       "      <td>127095.25</td>\n",
       "      <td>415.17</td>\n",
       "      <td>London Health Sciences Centre</td>\n",
       "      <td>Psychologist</td>\n",
       "      <td>2015</td>\n",
       "    </tr>\n",
       "    <tr>\n",
       "      <th>49034</th>\n",
       "      <td>Municipalities and Services</td>\n",
       "      <td>Kellershohn</td>\n",
       "      <td>David</td>\n",
       "      <td>127094.95</td>\n",
       "      <td>914.20</td>\n",
       "      <td>City of Toronto</td>\n",
       "      <td>Manager Storm Water Management</td>\n",
       "      <td>2015</td>\n",
       "    </tr>\n",
       "    <tr>\n",
       "      <th>62892</th>\n",
       "      <td>Municipalities and Services</td>\n",
       "      <td>Koscinski</td>\n",
       "      <td>Paul</td>\n",
       "      <td>127096.50</td>\n",
       "      <td>483.56</td>\n",
       "      <td>Regional Municipality of Niagara - Niagara Reg...</td>\n",
       "      <td>Detective Sergeant</td>\n",
       "      <td>2015</td>\n",
       "    </tr>\n",
       "  </tbody>\n",
       "</table>\n",
       "</div>"
      ],
      "text/plain": [
       "                                      sector     lastname firstname  \\\n",
       "26191  Hospitals and Boards of Public Health       Bedard  Danielle   \n",
       "49034            Municipalities and Services  Kellershohn     David   \n",
       "62892            Municipalities and Services    Koscinski      Paul   \n",
       "\n",
       "          salary  benefits                                           employer  \\\n",
       "26191  127095.25    415.17                      London Health Sciences Centre   \n",
       "49034  127094.95    914.20                                    City of Toronto   \n",
       "62892  127096.50    483.56  Regional Municipality of Niagara - Niagara Reg...   \n",
       "\n",
       "                                title  year  \n",
       "26191                    Psychologist  2015  \n",
       "49034  Manager Storm Water Management  2015  \n",
       "62892              Detective Sergeant  2015  "
      ]
     },
     "execution_count": 11,
     "metadata": {},
     "output_type": "execute_result"
    }
   ],
   "source": [
    "df[(df.salary <= mean + 1) & (df.salary >= mean - 1)]"
   ]
  },
  {
   "cell_type": "markdown",
   "metadata": {},
   "source": [
    "### 3. What's the mean salary of psychologists? How is it different from the overall mean?"
   ]
  },
  {
   "cell_type": "code",
   "execution_count": 2,
   "metadata": {
    "collapsed": false
   },
   "outputs": [
    {
     "data": {
      "text/plain": [
       "-11402.039470007265"
      ]
     },
     "execution_count": 2,
     "metadata": {},
     "output_type": "execute_result"
    }
   ],
   "source": [
    "psychmean = df[df.title.str.contains('Psychologist')].salary.mean()\n",
    "psychmean - df.salary.mean()"
   ]
  },
  {
   "cell_type": "markdown",
   "metadata": {},
   "source": [
    "### 4.  How many employers have people who make $500,000 or more?"
   ]
  },
  {
   "cell_type": "code",
   "execution_count": 14,
   "metadata": {
    "collapsed": false
   },
   "outputs": [
    {
     "data": {
      "text/plain": [
       "29"
      ]
     },
     "execution_count": 14,
     "metadata": {},
     "output_type": "execute_result"
    }
   ],
   "source": [
    "len(df[df.salary >= 500000].employer.unique())"
   ]
  },
  {
   "cell_type": "markdown",
   "metadata": {},
   "source": [
    "### 5. How many employees work in school boards that have the word 'Ottawa' in the name?"
   ]
  },
  {
   "cell_type": "code",
   "execution_count": 16,
   "metadata": {
    "collapsed": false
   },
   "outputs": [
    {
     "data": {
      "text/plain": [
       "Municipalities and Services                               2939\n",
       "Universities                                              1400\n",
       "School Boards                                              798\n",
       "Hospitals and Boards of Public Health                      743\n",
       "Other Public Sector Employers                               97\n",
       "Seconded (Community Safety and Correctional Services)*       2\n",
       "Crown Agencies                                               2\n",
       "Seconded (Education)*                                        1\n",
       "Name: sector, dtype: int64"
      ]
     },
     "execution_count": 16,
     "metadata": {},
     "output_type": "execute_result"
    }
   ],
   "source": [
    "df[df.employer.str.contains('Ottawa')].sector.value_counts()"
   ]
  },
  {
   "cell_type": "code",
   "execution_count": null,
   "metadata": {
    "collapsed": true
   },
   "outputs": [],
   "source": []
  },
  {
   "cell_type": "code",
   "execution_count": null,
   "metadata": {
    "collapsed": true
   },
   "outputs": [],
   "source": []
  }
 ],
 "metadata": {
  "kernelspec": {
   "display_name": "Python 3",
   "language": "python",
   "name": "python3"
  },
  "language_info": {
   "codemirror_mode": {
    "name": "ipython",
    "version": 3
   },
   "file_extension": ".py",
   "mimetype": "text/x-python",
   "name": "python",
   "nbconvert_exporter": "python",
   "pygments_lexer": "ipython3",
   "version": "3.5.1"
  }
 },
 "nbformat": 4,
 "nbformat_minor": 0
}
