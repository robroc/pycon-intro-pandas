{
 "cells": [
  {
   "cell_type": "code",
   "execution_count": null,
   "metadata": {
    "collapsed": true
   },
   "outputs": [],
   "source": [
    "# First, import the necesary libraries and run the magic function to draw charts inline\n",
    "\n",
    "import pandas as pd\n",
    "%matplotlib inline"
   ]
  },
  {
   "cell_type": "code",
   "execution_count": null,
   "metadata": {
    "collapsed": false
   },
   "outputs": [],
   "source": [
    "# Load the CSV as a pandas data frame and inspect the first 5 rows\n",
    "\n",
    "df = pd.read_csv('2015-combined-salary-seconded-utf8-en_3.csv')\n",
    "df.head()"
   ]
  },
  {
   "cell_type": "code",
   "execution_count": null,
   "metadata": {
    "collapsed": false
   },
   "outputs": [],
   "source": [
    "# How big is this dataframe (rows, columns)\n",
    "df.shape"
   ]
  },
  {
   "cell_type": "code",
   "execution_count": null,
   "metadata": {
    "collapsed": false
   },
   "outputs": [],
   "source": [
    "# Let's give it simple column labels for easier typing\n",
    "col_names = ['sector', 'lastname', 'firstname', 'salary', 'benefits', 'employer', 'title', 'year']\n",
    "df.columns = col_names\n",
    "df.head()"
   ]
  },
  {
   "cell_type": "markdown",
   "metadata": {},
   "source": [
    "A data frame is a two-dimensional tabular data format, much like Excel sheets, SQL tables, or R data frames. Notice the first column, with bold number, is an auto-generated index, which is quite useful. You can also assign any column as the index. More on that later."
   ]
  },
  {
   "cell_type": "code",
   "execution_count": null,
   "metadata": {
    "collapsed": false
   },
   "outputs": [],
   "source": [
    "# There are two ways of accessing individual columns. As an attribute:\n",
    "\n",
    "df.salary.head()"
   ]
  },
  {
   "cell_type": "code",
   "execution_count": null,
   "metadata": {
    "collapsed": false
   },
   "outputs": [],
   "source": [
    "# Or as a dict key:\n",
    "\n",
    "df['sector'].head()"
   ]
  },
  {
   "cell_type": "markdown",
   "metadata": {},
   "source": [
    "Individual columns, on the other hand, are pandas Series. These are one-dimensional data structures but that also have index labels. Data frames and Series have their own sets of methods."
   ]
  },
  {
   "cell_type": "code",
   "execution_count": null,
   "metadata": {
    "collapsed": false
   },
   "outputs": [],
   "source": [
    "# To access multiple columns, use dict notation with a list of column names:\n",
    "# You can also specify how many rows to show in head()\n",
    "# Notice that when we have more then one column, the data structure is once again a data frame\n",
    "\n",
    "df[['salary', 'title']].head(10)"
   ]
  },
  {
   "cell_type": "code",
   "execution_count": null,
   "metadata": {
    "collapsed": false
   },
   "outputs": [],
   "source": [
    "# Get some basic stats on the salary column\n",
    "\n",
    "df.salary.describe()"
   ]
  },
  {
   "cell_type": "code",
   "execution_count": null,
   "metadata": {
    "collapsed": false
   },
   "outputs": [],
   "source": [
    "# Oops, pandas parsed the column as text because of the $ sign and comma\n",
    "# Let's clean it up with a regex replace and turn it into a float\n",
    "# Notice how pandas allows method chaining\n",
    "\n",
    "df[['salary', 'benefits']] = df[['salary', 'benefits']].replace('[\\$,]', '', regex=True).astype(float)\n",
    "df.dtypes"
   ]
  },
  {
   "cell_type": "markdown",
   "metadata": {},
   "source": [
    "Note about that we had to reassign the column values. If we had simply run this code:\n",
    "\n",
    "`df[['salary', 'benefits']].replace('[\\$,]', '', regex=True).astype(float)`\n",
    "\n",
    "It would have crearted a modified copy of the columns for display. Much like a SELECT statement in SQL, it ouldn't have changed the contents of the data."
   ]
  },
  {
   "cell_type": "code",
   "execution_count": null,
   "metadata": {
    "collapsed": false
   },
   "outputs": [],
   "source": [
    "# OK, now it's a number columns with real numerical stats\n",
    "\n",
    "df.salary.describe()"
   ]
  },
  {
   "cell_type": "code",
   "execution_count": null,
   "metadata": {
    "collapsed": false
   },
   "outputs": [],
   "source": [
    "# That scientific notation is annoying. Let's get rid of it\n",
    "# by setting float display options\n",
    "\n",
    "pd.set_option('display.float_format', lambda x: '%.2f' % x)\n",
    "df.salary.describe()"
   ]
  },
  {
   "cell_type": "code",
   "execution_count": null,
   "metadata": {
    "collapsed": false
   },
   "outputs": [],
   "source": [
    "# You can get the frequency of values for string columns easily\n",
    "\n",
    "df.sector.value_counts()"
   ]
  },
  {
   "cell_type": "code",
   "execution_count": null,
   "metadata": {
    "collapsed": false
   },
   "outputs": [],
   "source": [
    "# How many unique employers in the dataset?\n",
    "\n",
    "len(df.employer.unique())"
   ]
  },
  {
   "cell_type": "code",
   "execution_count": null,
   "metadata": {
    "collapsed": false
   },
   "outputs": [],
   "source": [
    "# We can quickly visualize the range of numerical values with a histogram\n",
    "\n",
    "df.salary.hist(bins=20)"
   ]
  },
  {
   "cell_type": "code",
   "execution_count": null,
   "metadata": {
    "collapsed": false
   },
   "outputs": [],
   "source": [
    "# Default chart styles are ugly. We can import one of matplotlib's pre-loaded styles\n",
    "\n",
    "import matplotlib as plt\n",
    "plt.style.available"
   ]
  },
  {
   "cell_type": "code",
   "execution_count": null,
   "metadata": {
    "collapsed": false
   },
   "outputs": [],
   "source": [
    "plt.style.use('ggplot')"
   ]
  },
  {
   "cell_type": "code",
   "execution_count": null,
   "metadata": {
    "collapsed": false
   },
   "outputs": [],
   "source": [
    "# Now try it with a boxplot\n",
    "\n",
    "df.salary.plot(kind='box')"
   ]
  },
  {
   "cell_type": "code",
   "execution_count": null,
   "metadata": {
    "collapsed": false
   },
   "outputs": [],
   "source": [
    "# Who are the highest-paid employees? Let's sort.\n",
    "\n",
    "df.sort_values('salary', ascending=False)"
   ]
  },
  {
   "cell_type": "code",
   "execution_count": null,
   "metadata": {
    "collapsed": false
   },
   "outputs": [],
   "source": [
    "# Lets filter salaries over $500,000\n",
    "\n",
    "veryrich = df[df.salary >= 500000]\n",
    "veryrich.salary.describe()"
   ]
  },
  {
   "cell_type": "markdown",
   "metadata": {},
   "source": [
    "A note about pandas' bizarro Boolean filtering, which is one of the most confusing parts for newcomers.\n",
    "\n",
    "Just running the query without the brackets would have returned a Series of True and False values. That's because pandas is showing whether the condition we named is True or False for each row."
   ]
  },
  {
   "cell_type": "code",
   "execution_count": null,
   "metadata": {
    "collapsed": false,
    "scrolled": true
   },
   "outputs": [],
   "source": [
    "df.salary >= 500000"
   ]
  },
  {
   "cell_type": "markdown",
   "metadata": {
    "collapsed": true
   },
   "source": [
    "So to only see the rows where it's True, you need that bracket notation:"
   ]
  },
  {
   "cell_type": "code",
   "execution_count": null,
   "metadata": {
    "collapsed": false
   },
   "outputs": [],
   "source": [
    "df[df.salary >= 500000].head(10)"
   ]
  },
  {
   "cell_type": "code",
   "execution_count": null,
   "metadata": {
    "collapsed": false
   },
   "outputs": [],
   "source": [
    "# Filtering by multiple conditions: wrap each condition with parenthesis.\n",
    "# AND is &, OR is | (pipe)\n",
    "\n",
    "df[(df.salary >= 500000) & (df.sector == 'Universities')]"
   ]
  },
  {
   "cell_type": "markdown",
   "metadata": {},
   "source": [
    "There are many convenient methods for dealing with strings, some of which are handy for filtering. To access cells at the string level, you have to add `str` to the column name. Some examples:"
   ]
  },
  {
   "cell_type": "code",
   "execution_count": null,
   "metadata": {
    "collapsed": false
   },
   "outputs": [],
   "source": [
    "# Return all record with \"Toronto\" in the employer name\n",
    "\n",
    "df[df.employer.str.contains('Toronto')]"
   ]
  },
  {
   "cell_type": "code",
   "execution_count": null,
   "metadata": {
    "collapsed": false
   },
   "outputs": [],
   "source": [
    "# Return the last names that begin with \"Mc\"\n",
    "\n",
    "df[df.lastname.str.startswith('Mc')]"
   ]
  },
  {
   "cell_type": "code",
   "execution_count": null,
   "metadata": {
    "collapsed": false
   },
   "outputs": [],
   "source": [
    "# Take the top 10 earners and plot it on a horizontal bar chart\n",
    "\n",
    "df.sort_values('salary', ascending=False).salary.head(10).plot(kind='barh')"
   ]
  },
  {
   "cell_type": "code",
   "execution_count": null,
   "metadata": {
    "collapsed": false
   },
   "outputs": [],
   "source": [
    "# Useless. That's because the plot convenience method uses the data frame index\n",
    "# as labels. But we didn't set the index.\n",
    "# But let's first create a new column with the full name\n",
    "\n",
    "df['fullname'] = df['firstname'] + ' ' + df['lastname']\n",
    "\n",
    "# Now run the plotting code again, making good use of method chaining for readability\n",
    "\n",
    "( df.set_index('fullname')\n",
    " .sort_values('salary', ascending=False).salary\n",
    " .head(10)\n",
    " .plot(kind='barh') \n",
    ")"
   ]
  },
  {
   "cell_type": "code",
   "execution_count": null,
   "metadata": {
    "collapsed": false
   },
   "outputs": [],
   "source": [
    "# Indexes are very useful for filtering data by a column value\n",
    "\n",
    "bysector = df.set_index('sector')\n",
    "bysector.loc['Universities']"
   ]
  },
  {
   "cell_type": "code",
   "execution_count": null,
   "metadata": {
    "collapsed": false
   },
   "outputs": [],
   "source": [
    "# Or for finding the sector with the highest salary with idxmax (index of max value)\n",
    "\n",
    "bysector.salary.idxmax()"
   ]
  },
  {
   "cell_type": "markdown",
   "metadata": {},
   "source": [
    "## Grouping"
   ]
  },
  {
   "cell_type": "code",
   "execution_count": null,
   "metadata": {
    "collapsed": false,
    "scrolled": true
   },
   "outputs": [],
   "source": [
    "# Now let's calculate aggregate stats for employers. \n",
    "# pandas' grouping functions are extremely powerful. \n",
    "# The function below will calculate the max and average for each employer\n",
    "# across all numerical columns.\n",
    "\n",
    "employers = df.groupby('employer').agg(['max', 'mean'])\n",
    "employers[['salary', 'benefits']]"
   ]
  },
  {
   "cell_type": "code",
   "execution_count": null,
   "metadata": {
    "collapsed": false,
    "scrolled": true
   },
   "outputs": [],
   "source": [
    "# Notice how we have two levels of column labels. This is called a multi-index column\n",
    "# It has its own ways of working with it.\n",
    "# For example, to sort a multi-index column, specify the levels in a tuple in a list.\n",
    "# It's weird, but it makes it explicit. In this case, sort by mean salary.\n",
    "\n",
    "employers.sort_values([('salary', 'mean')], ascending=False)"
   ]
  },
  {
   "cell_type": "code",
   "execution_count": null,
   "metadata": {
    "collapsed": false,
    "scrolled": true
   },
   "outputs": [],
   "source": [
    "# Let's calculate which employers have the highest income disparities \n",
    "\n",
    "# First, get only the salary column and reset the index to flatten the multi-index\n",
    "emp_salaries = employers['salary'].reset_index()\n",
    "\n",
    "# Create a new column that calculates the difference between max and mean salaries\n",
    "emp_salaries['diff'] = emp_salaries['max'] - emp_salaries['mean']\n",
    "\n",
    "# Sort by the new diff column from highest to lowest\n",
    "emp_salaries.sort_values('diff', ascending = False)"
   ]
  },
  {
   "cell_type": "code",
   "execution_count": null,
   "metadata": {
    "collapsed": false
   },
   "outputs": [],
   "source": [
    "# You can apply a custom function to a grouped data frame.\n",
    "# For example, to find the percent each sector's salaries of the whole\n",
    "\n",
    "def calc_pct(grp):\n",
    "    return grp / grp.sum() * 100\n",
    "\n",
    "df.groupby('sector').agg({'salary': 'sum'}).apply(calc_pct)"
   ]
  },
  {
   "cell_type": "code",
   "execution_count": null,
   "metadata": {
    "collapsed": true
   },
   "outputs": [],
   "source": []
  }
 ],
 "metadata": {
  "kernelspec": {
   "display_name": "Python 3",
   "language": "python",
   "name": "python3"
  },
  "language_info": {
   "codemirror_mode": {
    "name": "ipython",
    "version": 3
   },
   "file_extension": ".py",
   "mimetype": "text/x-python",
   "name": "python",
   "nbconvert_exporter": "python",
   "pygments_lexer": "ipython3",
   "version": "3.5.1"
  }
 },
 "nbformat": 4,
 "nbformat_minor": 0
}
